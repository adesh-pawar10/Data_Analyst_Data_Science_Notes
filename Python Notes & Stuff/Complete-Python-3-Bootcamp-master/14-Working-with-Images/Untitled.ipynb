{
 "cells": [
  {
   "cell_type": "code",
   "execution_count": 1,
   "id": "4a3ca9cf",
   "metadata": {},
   "outputs": [],
   "source": [
    "from PIL import Image"
   ]
  },
  {
   "cell_type": "code",
   "execution_count": 2,
   "id": "eec79d57",
   "metadata": {},
   "outputs": [],
   "source": [
    "mac = Image.open('example.jpg')"
   ]
  },
  {
   "cell_type": "code",
   "execution_count": 3,
   "id": "ab37d8e3",
   "metadata": {},
   "outputs": [
    {
     "data": {
      "text/plain": [
       "PIL.JpegImagePlugin.JpegImageFile"
      ]
     },
     "execution_count": 3,
     "metadata": {},
     "output_type": "execute_result"
    }
   ],
   "source": [
    "type(mac)"
   ]
  },
  {
   "cell_type": "code",
   "execution_count": 5,
   "id": "1865d29c",
   "metadata": {},
   "outputs": [],
   "source": [
    "blue = Image.open('blue_color.png')"
   ]
  },
  {
   "cell_type": "code",
   "execution_count": 15,
   "id": "c300adae",
   "metadata": {},
   "outputs": [
    {
     "data": {
      "text/plain": [
       "(200, 200)"
      ]
     },
     "execution_count": 15,
     "metadata": {},
     "output_type": "execute_result"
    }
   ],
   "source": [
    "blue.size"
   ]
  },
  {
   "cell_type": "code",
   "execution_count": 7,
   "id": "ddbe7a9e",
   "metadata": {},
   "outputs": [],
   "source": [
    "mk = Image.open('mask.png')"
   ]
  },
  {
   "cell_type": "code",
   "execution_count": 14,
   "id": "3d7405fc",
   "metadata": {},
   "outputs": [
    {
     "data": {
      "text/plain": [
       "(505, 251)"
      ]
     },
     "execution_count": 14,
     "metadata": {},
     "output_type": "execute_result"
    }
   ],
   "source": [
    "mk.size"
   ]
  },
  {
   "cell_type": "code",
   "execution_count": 10,
   "id": "85239bb0",
   "metadata": {},
   "outputs": [],
   "source": [
    "pn = Image.open('pencils.jpg')"
   ]
  },
  {
   "cell_type": "code",
   "execution_count": 16,
   "id": "f00ca41d",
   "metadata": {},
   "outputs": [
    {
     "data": {
      "text/plain": [
       "(1950, 1300)"
      ]
     },
     "execution_count": 16,
     "metadata": {},
     "output_type": "execute_result"
    }
   ],
   "source": [
    "pn.size"
   ]
  },
  {
   "cell_type": "code",
   "execution_count": 12,
   "id": "3e62238d",
   "metadata": {},
   "outputs": [],
   "source": [
    "wm = Image.open('word_matrix.png')"
   ]
  },
  {
   "cell_type": "code",
   "execution_count": 17,
   "id": "b12a054c",
   "metadata": {},
   "outputs": [
    {
     "data": {
      "text/plain": [
       "(1015, 559)"
      ]
     },
     "execution_count": 17,
     "metadata": {},
     "output_type": "execute_result"
    }
   ],
   "source": [
    "wm.size"
   ]
  },
  {
   "cell_type": "code",
   "execution_count": null,
   "id": "7b957c1d",
   "metadata": {},
   "outputs": [],
   "source": []
  }
 ],
 "metadata": {
  "kernelspec": {
   "display_name": "Python 3 (ipykernel)",
   "language": "python",
   "name": "python3"
  },
  "language_info": {
   "codemirror_mode": {
    "name": "ipython",
    "version": 3
   },
   "file_extension": ".py",
   "mimetype": "text/x-python",
   "name": "python",
   "nbconvert_exporter": "python",
   "pygments_lexer": "ipython3",
   "version": "3.9.12"
  }
 },
 "nbformat": 4,
 "nbformat_minor": 5
}
